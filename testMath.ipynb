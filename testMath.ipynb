{
 "cells": [
  {
   "cell_type": "code",
   "execution_count": null,
   "metadata": {},
   "outputs": [
    {
     "name": "stdout",
     "output_type": "stream",
     "text": [
      "a:  2.6666666666666665\n",
      "b:  1.8518518518518523\n",
      "c:  1.3608276348795436\n"
     ]
    }
   ],
   "source": [
    "import math\n",
    "\n",
    "numN = 3\n",
    "\n",
    "a = ((5 * 1) + (3 * 1)) / numN\n",
    "print(\"a: \", a)\n",
    "\n",
    "b = (((5 - a)**2 * 1) + ((3 - a)**2 * 1)) / numN\n",
    "print(\"b: \", b)\n",
    "print(\"c: \", math.sqrt(b))"
   ]
  },
  {
   "cell_type": "code",
   "execution_count": 5,
   "metadata": {},
   "outputs": [
    {
     "name": "stdout",
     "output_type": "stream",
     "text": [
      "aa:  13.261845438868772\n",
      "am:  175.87654444444445\n"
     ]
    }
   ],
   "source": [
    "import math\n",
    "x = 158.11\n",
    "mm = (((125 - 158.11)**2 * 3) + ((135 - 158.11)**2 * 12) + ((145 - 158.11)**2 * 35) + ((155 - 158.11)**2 * 50) \n",
    "+ ((165 - 158.11)**2 * 42) + ((175 - 158.11)**2 * 32) + ((185 - 158.11)**2 * 6))\n",
    "\n",
    "am = mm/180\n",
    "aa = math.sqrt(am)\n",
    "print(\"aa: \", aa)\n",
    "print(\"am: \", am)"
   ]
  }
 ],
 "metadata": {
  "kernelspec": {
   "display_name": "usr",
   "language": "python",
   "name": "python3"
  },
  "language_info": {
   "codemirror_mode": {
    "name": "ipython",
    "version": 3
   },
   "file_extension": ".py",
   "mimetype": "text/x-python",
   "name": "python",
   "nbconvert_exporter": "python",
   "pygments_lexer": "ipython3",
   "version": "3.13.2"
  }
 },
 "nbformat": 4,
 "nbformat_minor": 2
}
