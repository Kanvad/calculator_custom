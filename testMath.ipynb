{
 "cells": [
  {
   "cell_type": "code",
   "execution_count": null,
   "metadata": {},
   "outputs": [
    {
     "name": "stdout",
     "output_type": "stream",
     "text": [
      "a:  2.6666666666666665\n",
      "b:  1.8518518518518523\n",
      "c:  1.3608276348795436\n"
     ]
    }
   ],
   "source": [
    "import math\n",
    "\n",
    "numN = 3\n",
    "\n",
    "a = ((5 * 1) + (3 * 1)) / numN\n",
    "print(\"a: \", a)\n",
    "\n",
    "b = (((5 - a)**2 * 1) + ((3 - a)**2 * 1)) / numN\n",
    "print(\"b: \", b)\n",
    "print(\"c: \", math.sqrt(b))"
   ]
  }
 ],
 "metadata": {
  "kernelspec": {
   "display_name": "Python 3",
   "language": "python",
   "name": "python3"
  },
  "language_info": {
   "codemirror_mode": {
    "name": "ipython",
    "version": 3
   },
   "file_extension": ".py",
   "mimetype": "text/x-python",
   "name": "python",
   "nbconvert_exporter": "python",
   "pygments_lexer": "ipython3",
   "version": "3.13.2"
  }
 },
 "nbformat": 4,
 "nbformat_minor": 2
}
